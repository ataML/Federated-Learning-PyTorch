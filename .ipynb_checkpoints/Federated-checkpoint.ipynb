{
 "cells": [
  {
   "cell_type": "code",
   "execution_count": 1,
   "id": "noticed-hydrogen",
   "metadata": {},
   "outputs": [
    {
     "name": "stdout",
     "output_type": "stream",
     "text": [
      "MONAI version: 0.5.2+24.g2a4c9e5\n",
      "Numpy version: 1.19.2\n",
      "Pytorch version: 1.8.0a0+52ea372\n",
      "MONAI flags: HAS_EXT = True, USE_COMPILED = False\n",
      "MONAI rev id: 2a4c9e514bbc603191e49120e9d598a9414c0e75\n",
      "\n",
      "Optional dependencies:\n",
      "Pytorch Ignite version: 0.4.4\n",
      "Nibabel version: 3.2.1\n",
      "scikit-image version: 0.15.0\n",
      "Pillow version: 8.2.0\n",
      "Tensorboard version: 1.15.0+nv\n",
      "gdown version: 3.13.0\n",
      "TorchVision version: 0.9.0a0\n",
      "ITK version: 5.1.2\n",
      "tqdm version: 4.53.0\n",
      "lmdb version: 1.1.1\n",
      "psutil version: 5.8.0\n",
      "\n",
      "For details about installing the optional dependencies, please visit:\n",
      "    https://docs.monai.io/en/latest/installation.html#installing-the-recommended-dependencies\n",
      "\n"
     ]
    }
   ],
   "source": [
    "# Copyright 2020 MONAI Consortium\n",
    "# Licensed under the Apache License, Version 2.0 (the \"License\");\n",
    "# you may not use this file except in compliance with the License.\n",
    "# You may obtain a copy of the License at\n",
    "#     http://www.apache.org/licenses/LICENSE-2.0\n",
    "# Unless required by applicable law or agreed to in writing, software\n",
    "# distributed under the License is distributed on an \"AS IS\" BASIS,\n",
    "# WITHOUT WARRANTIES OR CONDITIONS OF ANY KIND, either express or implied.\n",
    "# See the License for the specific language governing permissions and\n",
    "# limitations under the License.\n",
    "\n",
    "import os\n",
    "import shutil\n",
    "import tempfile\n",
    "import copy \n",
    "import src.update \n",
    "\n",
    "import tqdm\n",
    "\n",
    "import matplotlib.pyplot as plt\n",
    "import numpy as np\n",
    "from monai.apps import DecathlonDataset\n",
    "from monai.config import print_config\n",
    "\n",
    "from monai.losses import DiceLoss\n",
    "from monai.metrics import DiceMetric\n",
    "from monai.networks.nets import UNet\n",
    "\n",
    "from src.update import LocalUpdate\n",
    "from monai.utils import set_determinism\n",
    "from src.utils import get_dataset,average_weights\n",
    "\n",
    "import torch\n",
    "\n",
    "print_config()"
   ]
  },
  {
   "cell_type": "code",
   "execution_count": null,
   "id": "wicked-occasion",
   "metadata": {},
   "outputs": [],
   "source": []
  },
  {
   "cell_type": "code",
   "execution_count": 2,
   "id": "miniature-leisure",
   "metadata": {},
   "outputs": [],
   "source": [
    "#from tensorboardX import SummaryWriter\n",
    "\n",
    "path_project = os.path.abspath('..')\n",
    "#logger = SummaryWriter('../logs')\n",
    "logger=0\n",
    "os.environ[\"MONAI_DATA_DIRECTORY\"]=\"/data\"  \n",
    "root_dir = os.environ.get(\"MONAI_DATA_DIRECTORY\")\n",
    "\n",
    "#args = args_parser()\n",
    "epochs = 200\n",
    "num_users = 1\n",
    "frac = 1 \n",
    "local_ep = 1\n",
    "local_bs = 2\n",
    "lr = 1e-4\n",
    "momentum = 0.5\n",
    "iid=1\n",
    "dataset=\"brats\"\n",
    "#exp_details(args)\n",
    "\n",
    "device = torch.device(\"cuda:0\")\n",
    "\n"
   ]
  },
  {
   "cell_type": "code",
   "execution_count": 3,
   "id": "young-jonathan",
   "metadata": {},
   "outputs": [
    {
     "name": "stdout",
     "output_type": "stream",
     "text": [
      "1\n"
     ]
    }
   ],
   "source": [
    "print(local_ep)"
   ]
  },
  {
   "cell_type": "code",
   "execution_count": 4,
   "id": "noticed-federation",
   "metadata": {},
   "outputs": [],
   "source": [
    "set_determinism(seed=0)"
   ]
  },
  {
   "cell_type": "code",
   "execution_count": 5,
   "id": "mental-traveler",
   "metadata": {},
   "outputs": [
    {
     "name": "stderr",
     "output_type": "stream",
     "text": [
      "Loading dataset:   0%|          | 0/100 [00:00<?, ?it/s]"
     ]
    },
    {
     "name": "stdout",
     "output_type": "stream",
     "text": [
      "/data\n"
     ]
    },
    {
     "name": "stderr",
     "output_type": "stream",
     "text": [
      "Loading dataset: 100%|██████████| 100/100 [01:53<00:00,  1.13s/it]\n",
      "Loading dataset: 100%|██████████| 96/96 [01:42<00:00,  1.07s/it]\n"
     ]
    }
   ],
   "source": [
    "#Load Datasets\n",
    "train_dataset, val_dataset, user_groups_train, user_groups_val = get_dataset(iid, num_users, download_dataset=False)\n"
   ]
  },
  {
   "cell_type": "code",
   "execution_count": null,
   "id": "cloudy-finger",
   "metadata": {},
   "outputs": [],
   "source": []
  },
  {
   "cell_type": "code",
   "execution_count": 6,
   "id": "arabic-resistance",
   "metadata": {},
   "outputs": [
    {
     "name": "stdout",
     "output_type": "stream",
     "text": [
      "0 {0, 1, 2, 3, 4, 5, 6, 7, 8, 9, 10, 11, 12, 13, 14, 15, 16, 17, 18, 19, 20, 21, 22, 23, 24, 25, 26, 27, 28, 29, 30, 31, 32, 33, 34, 35, 36, 37, 38, 39, 40, 41, 42, 43, 44, 45, 46, 47, 48, 49, 50, 51, 52, 53, 54, 55, 56, 57, 58, 59, 60, 61, 62, 63, 64, 65, 66, 67, 68, 69, 70, 71, 72, 73, 74, 75, 76, 77, 78, 79, 80, 81, 82, 83, 84, 85, 86, 87, 88, 89, 90, 91, 92, 93, 94, 95, 96, 97, 98, 99, 100, 101, 102, 103, 104, 105, 106, 107, 108, 109, 110, 111, 112, 113, 114, 115, 116, 117, 118, 119, 120, 121, 122, 123, 124, 125, 126, 127, 128, 129, 130, 131, 132, 133, 134, 135, 136, 137, 138, 139, 140, 141, 142, 143, 144, 145, 146, 147, 148, 149, 150, 151, 152, 153, 154, 155, 156, 157, 158, 159, 160, 161, 162, 163, 164, 165, 166, 167, 168, 169, 170, 171, 172, 173, 174, 175, 176, 177, 178, 179, 180, 181, 182, 183, 184, 185, 186, 187, 188, 189, 190, 191, 192, 193, 194, 195, 196, 197, 198, 199, 200, 201, 202, 203, 204, 205, 206, 207, 208, 209, 210, 211, 212, 213, 214, 215, 216, 217, 218, 219, 220, 221, 222, 223, 224, 225, 226, 227, 228, 229, 230, 231, 232, 233, 234, 235, 236, 237, 238, 239, 240, 241, 242, 243, 244, 245, 246, 247, 248, 249, 250, 251, 252, 253, 254, 255, 256, 257, 258, 259, 260, 261, 262, 263, 264, 265, 266, 267, 268, 269, 270, 271, 272, 273, 274, 275, 276, 277, 278, 279, 280, 281, 282, 283, 284, 285, 286, 287, 288, 289, 290, 291, 292, 293, 294, 295, 296, 297, 298, 299, 300, 301, 302, 303, 304, 305, 306, 307, 308, 309, 310, 311, 312, 313, 314, 315, 316, 317, 318, 319, 320, 321, 322, 323, 324, 325, 326, 327, 328, 329, 330, 331, 332, 333, 334, 335, 336, 337, 338, 339, 340, 341, 342, 343, 344, 345, 346, 347, 348, 349, 350, 351, 352, 353, 354, 355, 356, 357, 358, 359, 360, 361, 362, 363, 364, 365, 366, 367, 368, 369, 370, 371, 372, 373, 374, 375, 376, 377, 378, 379, 380, 381, 382, 383, 384, 385, 386, 387}\n",
      "0 {0, 1, 2, 3, 4, 5, 6, 7, 8, 9, 10, 11, 12, 13, 14, 15, 16, 17, 18, 19, 20, 21, 22, 23, 24, 25, 26, 27, 28, 29, 30, 31, 32, 33, 34, 35, 36, 37, 38, 39, 40, 41, 42, 43, 44, 45, 46, 47, 48, 49, 50, 51, 52, 53, 54, 55, 56, 57, 58, 59, 60, 61, 62, 63, 64, 65, 66, 67, 68, 69, 70, 71, 72, 73, 74, 75, 76, 77, 78, 79, 80, 81, 82, 83, 84, 85, 86, 87, 88, 89, 90, 91, 92, 93, 94, 95}\n"
     ]
    }
   ],
   "source": [
    "for key,value in user_groups_train.items():\n",
    "    print(key,value)\n",
    "for key,value in user_groups_val.items():\n",
    "    print(key,value)\n",
    "#print(len(train_dataset))"
   ]
  },
  {
   "cell_type": "code",
   "execution_count": 7,
   "id": "postal-campbell",
   "metadata": {},
   "outputs": [
    {
     "name": "stdout",
     "output_type": "stream",
     "text": [
      "image shape: torch.Size([4, 128, 128, 64])\n",
      "<class 'torch.Tensor'>\n"
     ]
    }
   ],
   "source": [
    "print(f\"image shape: {train_dataset[2]['image'].shape}\")\n",
    "print(type(train_dataset[2]['image']))"
   ]
  },
  {
   "cell_type": "code",
   "execution_count": 7,
   "id": "metric-white",
   "metadata": {},
   "outputs": [],
   "source": [
    "\n",
    "#Build model\n",
    "global_model = UNet(\n",
    "    dimensions=3,\n",
    "    in_channels=4,\n",
    "    out_channels=3,\n",
    "    channels=(16, 32, 64, 128, 256),\n",
    "    strides=(2, 2, 2, 2),\n",
    "    num_res_units=2,\n",
    ").to(device)\n"
   ]
  },
  {
   "cell_type": "code",
   "execution_count": null,
   "id": "fifty-banks",
   "metadata": {},
   "outputs": [],
   "source": []
  },
  {
   "cell_type": "code",
   "execution_count": 8,
   "id": "retired-rehabilitation",
   "metadata": {},
   "outputs": [],
   "source": [
    "import importlib\n",
    "import src.update\n",
    "importlib.reload(src.update)\n",
    "from src.update import LocalUpdate\n",
    "import src.utils\n",
    "importlib.reload(src.utils)\n",
    "from src.utils import average_weights\n",
    "import time "
   ]
  },
  {
   "cell_type": "code",
   "execution_count": 9,
   "id": "front-reasoning",
   "metadata": {},
   "outputs": [],
   "source": [
    "start = time.time()"
   ]
  },
  {
   "cell_type": "code",
   "execution_count": 10,
   "id": "communist-choice",
   "metadata": {},
   "outputs": [],
   "source": [
    "##### global_model.to(device)\n",
    "global_model.train()\n",
    "\n",
    "#print(global_model)\n",
    "\n",
    "# copy weights\n",
    "global_weights = global_model.state_dict()\n",
    "\n",
    "# Training\n",
    "train_loss, train_accuracy,val_loss_list = [], [], []\n",
    "val_acc_list, net_list = [], []\n",
    "cv_loss, cv_acc = [], []\n",
    "print_every = 1\n",
    "val_loss_pre, counter = 0, 0\n",
    "\n",
    "\n",
    "#####\n",
    "best_metric = -1\n",
    "best_metric_epoch = -1\n",
    "#epoch_loss_values = []\n",
    "metric_values = []\n",
    "metric_values_tc = []\n",
    "metric_values_wt = []\n",
    "metric_values_et = []\n",
    "\n",
    "metric, metric_tc, metric_wt, metric_et=0.0,0.0,0.0,0.0\n"
   ]
  },
  {
   "cell_type": "code",
   "execution_count": 11,
   "id": "given-knife",
   "metadata": {},
   "outputs": [],
   "source": [
    "total_batches = 10000"
   ]
  },
  {
   "cell_type": "code",
   "execution_count": 13,
   "id": "rapid-history",
   "metadata": {
    "scrolled": true
   },
   "outputs": [
    {
     "name": "stderr",
     "output_type": "stream",
     "text": [
      "  0%|          | 0/1 [00:00<?, ?it/s]"
     ]
    },
    {
     "name": "stdout",
     "output_type": "stream",
     "text": [
      "\n",
      " | Global Training Round : 1 |\n",
      "\n",
      "user 0 selected\n",
      "local epoch 1\n",
      "1/194, train_loss: 0.9491\n",
      "2/194, train_loss: 0.9463\n",
      "3/194, train_loss: 0.9100\n",
      "4/194, train_loss: 0.9568\n",
      "5/194, train_loss: 0.9503\n",
      "6/194, train_loss: 0.9529\n",
      "7/194, train_loss: 0.9752\n",
      "8/194, train_loss: 0.9320\n",
      "9/194, train_loss: 0.9322\n",
      "10/194, train_loss: 0.9163\n",
      "11/194, train_loss: 0.9279\n",
      "12/194, train_loss: 0.9891\n",
      "13/194, train_loss: 0.9415\n",
      "14/194, train_loss: 0.9852\n",
      "15/194, train_loss: 0.9482\n",
      "16/194, train_loss: 0.9760\n",
      "17/194, train_loss: 0.9278\n",
      "18/194, train_loss: 0.9612\n",
      "19/194, train_loss: 0.9726\n",
      "20/194, train_loss: 0.8816\n",
      "21/194, train_loss: 0.9436\n",
      "22/194, train_loss: 0.9861\n",
      "23/194, train_loss: 0.9561\n",
      "24/194, train_loss: 0.9197\n",
      "25/194, train_loss: 0.9697\n",
      "26/194, train_loss: 0.9793\n",
      "27/194, train_loss: 0.9433\n",
      "28/194, train_loss: 0.9291\n",
      "29/194, train_loss: 0.9756\n",
      "30/194, train_loss: 0.9680\n",
      "31/194, train_loss: 0.9260\n",
      "32/194, train_loss: 0.9142\n",
      "33/194, train_loss: 0.9568\n",
      "34/194, train_loss: 0.9445\n",
      "35/194, train_loss: 0.9310\n",
      "36/194, train_loss: 0.9727\n",
      "37/194, train_loss: 0.9059\n",
      "38/194, train_loss: 0.9654\n",
      "39/194, train_loss: 0.9089\n",
      "40/194, train_loss: 0.9348\n",
      "41/194, train_loss: 0.9508\n",
      "42/194, train_loss: 0.9836\n",
      "43/194, train_loss: 0.9082\n",
      "44/194, train_loss: 0.9688\n",
      "45/194, train_loss: 0.9837\n",
      "46/194, train_loss: 0.9203\n",
      "47/194, train_loss: 0.9460\n",
      "48/194, train_loss: 0.9632\n",
      "49/194, train_loss: 0.9133\n",
      "50/194, train_loss: 0.9351\n",
      "51/194, train_loss: 0.9121\n",
      "52/194, train_loss: 0.9357\n",
      "53/194, train_loss: 0.9672\n",
      "54/194, train_loss: 0.9812\n",
      "55/194, train_loss: 0.9150\n",
      "56/194, train_loss: 0.9259\n",
      "57/194, train_loss: 0.9080\n",
      "58/194, train_loss: 0.9297\n",
      "59/194, train_loss: 0.9225\n",
      "60/194, train_loss: 0.9218\n",
      "61/194, train_loss: 0.8999\n",
      "62/194, train_loss: 0.9415\n",
      "63/194, train_loss: 0.9300\n",
      "64/194, train_loss: 0.9644\n",
      "65/194, train_loss: 0.9240\n",
      "66/194, train_loss: 0.9538\n",
      "67/194, train_loss: 0.9337\n",
      "68/194, train_loss: 0.9379\n",
      "69/194, train_loss: 0.9379\n",
      "70/194, train_loss: 0.9721\n",
      "71/194, train_loss: 0.9732\n",
      "72/194, train_loss: 0.9284\n",
      "73/194, train_loss: 0.9583\n",
      "74/194, train_loss: 0.9452\n",
      "75/194, train_loss: 0.9384\n",
      "76/194, train_loss: 0.9795\n",
      "77/194, train_loss: 0.9166\n",
      "78/194, train_loss: 0.9616\n",
      "79/194, train_loss: 0.9500\n",
      "80/194, train_loss: 0.9609\n",
      "81/194, train_loss: 0.9728\n",
      "82/194, train_loss: 0.9526\n",
      "83/194, train_loss: 0.9296\n",
      "84/194, train_loss: 0.9208\n",
      "85/194, train_loss: 0.9408\n",
      "86/194, train_loss: 0.9611\n",
      "87/194, train_loss: 0.9591\n",
      "88/194, train_loss: 0.9101\n",
      "89/194, train_loss: 0.9442\n",
      "90/194, train_loss: 0.9501\n",
      "91/194, train_loss: 0.8815\n",
      "92/194, train_loss: 0.9480\n",
      "93/194, train_loss: 0.9236\n",
      "94/194, train_loss: 0.9530\n",
      "95/194, train_loss: 0.9691\n",
      "96/194, train_loss: 0.9678\n",
      "97/194, train_loss: 0.9925\n",
      "98/194, train_loss: 0.9363\n",
      "99/194, train_loss: 0.9460\n",
      "100/194, train_loss: 0.9749\n",
      "101/194, train_loss: 0.9553\n",
      "102/194, train_loss: 0.9265\n",
      "103/194, train_loss: 0.9709\n",
      "104/194, train_loss: 0.9450\n",
      "105/194, train_loss: 0.9362\n",
      "106/194, train_loss: 0.9760\n",
      "107/194, train_loss: 0.9165\n",
      "108/194, train_loss: 0.9423\n",
      "109/194, train_loss: 0.9375\n",
      "110/194, train_loss: 0.9721\n",
      "111/194, train_loss: 0.9404\n",
      "112/194, train_loss: 0.9277\n",
      "113/194, train_loss: 0.9607\n",
      "114/194, train_loss: 0.9628\n",
      "115/194, train_loss: 0.9500\n",
      "116/194, train_loss: 0.9363\n",
      "117/194, train_loss: 0.9441\n",
      "118/194, train_loss: 0.9382\n",
      "119/194, train_loss: 0.9284\n",
      "120/194, train_loss: 0.9570\n",
      "121/194, train_loss: 0.9331\n",
      "122/194, train_loss: 0.9186\n",
      "123/194, train_loss: 0.9486\n",
      "124/194, train_loss: 0.9512\n",
      "125/194, train_loss: 0.9535\n",
      "126/194, train_loss: 0.9254\n",
      "127/194, train_loss: 0.9508\n",
      "128/194, train_loss: 0.9369\n",
      "129/194, train_loss: 0.9633\n",
      "130/194, train_loss: 0.9656\n",
      "131/194, train_loss: 0.9825\n",
      "132/194, train_loss: 0.9220\n",
      "133/194, train_loss: 0.9583\n",
      "134/194, train_loss: 0.9693\n",
      "135/194, train_loss: 0.9216\n",
      "136/194, train_loss: 0.9523\n",
      "137/194, train_loss: 0.9241\n",
      "138/194, train_loss: 0.9035\n",
      "139/194, train_loss: 0.9711\n",
      "140/194, train_loss: 0.9498\n",
      "141/194, train_loss: 0.9503\n",
      "142/194, train_loss: 0.9499\n",
      "143/194, train_loss: 0.9660\n",
      "144/194, train_loss: 0.9783\n",
      "145/194, train_loss: 0.9431\n",
      "146/194, train_loss: 0.9220\n",
      "147/194, train_loss: 0.9345\n",
      "148/194, train_loss: 0.9564\n",
      "149/194, train_loss: 0.9473\n",
      "150/194, train_loss: 0.9704\n",
      "151/194, train_loss: 0.9407\n",
      "152/194, train_loss: 0.9745\n",
      "153/194, train_loss: 0.9516\n",
      "154/194, train_loss: 0.9428\n",
      "155/194, train_loss: 0.9320\n",
      "156/194, train_loss: 0.9318\n",
      "157/194, train_loss: 0.9240\n",
      "158/194, train_loss: 0.9640\n",
      "159/194, train_loss: 0.9582\n",
      "160/194, train_loss: 0.9646\n",
      "161/194, train_loss: 0.8985\n",
      "162/194, train_loss: 0.9354\n",
      "163/194, train_loss: 0.9088\n",
      "164/194, train_loss: 0.9090\n",
      "165/194, train_loss: 0.9525\n",
      "166/194, train_loss: 0.9430\n",
      "167/194, train_loss: 0.9241\n",
      "168/194, train_loss: 0.9552\n",
      "169/194, train_loss: 0.9191\n",
      "170/194, train_loss: 0.9492\n",
      "171/194, train_loss: 0.9548\n",
      "172/194, train_loss: 0.9154\n",
      "173/194, train_loss: 0.9387\n",
      "174/194, train_loss: 0.8848\n",
      "175/194, train_loss: 0.8755\n",
      "176/194, train_loss: 0.9771\n",
      "177/194, train_loss: 0.9840\n",
      "178/194, train_loss: 0.9296\n",
      "179/194, train_loss: 0.9130\n",
      "180/194, train_loss: 0.9913\n",
      "181/194, train_loss: 0.9535\n",
      "182/194, train_loss: 0.9222\n",
      "183/194, train_loss: 0.9431\n",
      "184/194, train_loss: 0.8991\n",
      "185/194, train_loss: 0.9797\n",
      "186/194, train_loss: 0.9276\n",
      "187/194, train_loss: 0.9825\n",
      "188/194, train_loss: 0.9080\n",
      "189/194, train_loss: 0.9353\n",
      "190/194, train_loss: 0.9807\n",
      "191/194, train_loss: 0.9589\n",
      "192/194, train_loss: 0.9645\n",
      "193/194, train_loss: 0.9322\n",
      "194/194, train_loss: 0.9178\n",
      "current epoch: 1 current epoch loss: 0.9443\n"
     ]
    },
    {
     "name": "stderr",
     "output_type": "stream",
     "text": [
      "100%|██████████| 1/1 [08:36<00:00, 516.78s/it]"
     ]
    },
    {
     "name": "stdout",
     "output_type": "stream",
     "text": [
      "metric=0.1209063936645786, metric_tc=0.09493849465313058, metric_wt=0.22115858970209956, metric_et=0.04662209577509202\n",
      "0.1209063936645786\n",
      "saved new best metric model\n",
      "current epoch: 1 current mean dice: 0.1209 tc: 0.0949 wt: 0.2212 et: 0.0466\n",
      "best mean dice: 0.1209 at epoch: 1\n"
     ]
    },
    {
     "name": "stderr",
     "output_type": "stream",
     "text": [
      "\n"
     ]
    }
   ],
   "source": [
    "\n",
    "\n",
    "for epoch in tqdm.tqdm(range(epochs)):\n",
    "        \n",
    "    local_weights, local_losses = [], []\n",
    "    \n",
    "    print(f'\\n | Global Training Round : {epoch+1} |\\n')\n",
    "\n",
    "    global_model.train()\n",
    "    m = max(int(frac * num_users), 1)\n",
    "    idxs_users = np.random.choice(range(num_users), m, replace=False)\n",
    "\n",
    "    for idx in idxs_users:\n",
    "        \n",
    "        print(f\"user {idx} selected\")\n",
    "        local_model = LocalUpdate(train_dataset=train_dataset, val_dataset=val_dataset,\n",
    "                                  train_idxs=user_groups_train[idx],val_idxs=user_groups_val[idx], logger=logger, local_bs=local_bs, lr=lr, local_ep=local_ep, total_batches=total_batches)\n",
    "        w, loss = local_model.update_weights(\n",
    "                model=copy.deepcopy(global_model), global_round=epoch)\n",
    "        local_weights.append(copy.deepcopy(w))\n",
    "      #  local_losses.append(copy.deepcopy(loss))\n",
    "        local_losses.append(loss)\n",
    "     #   global_model.load_state_dict(copy.deepcopy(w))\n",
    "    \n",
    "     #   global_model.eval()\n",
    "        \n",
    "     #   local_model.inference(model=global_model)\n",
    "\n",
    "    # update global weights\n",
    "    global_weights = average_weights(local_weights)\n",
    "   ## global_weights = local_weights[0]\n",
    "    \n",
    "    # update global loss\n",
    "    global_model.load_state_dict(global_weights)\n",
    "    \n",
    " #   for c in range(num_users):\n",
    " #       local_model = LocalUpdate(train_dataset=train_dataset, val_dataset=val_dataset,\n",
    "  #                                  train_idxs=user_groups_train[c],val_idxs=user_groups_val[c], logger=logger, lr=lr, local_ep=local_ep, local_bs=local_bs)\n",
    "   #     local_model.inference(model=global_model)\n",
    "    \n",
    "    loss_avg = sum(local_losses) / len(local_losses)\n",
    "    train_loss.append(loss_avg)\n",
    "    print(f\"current epoch: {epoch + 1} current epoch loss: {loss_avg:.4f}\")\n",
    "    # Calculate avg training accuracy over all users at every epoch\n",
    "    \n",
    "   # list_acc, list_loss = [], []\n",
    "    ep_metric_values = []\n",
    "    ep_metric_values_tc = []\n",
    "    ep_metric_values_wt = []\n",
    "    ep_metric_values_et = []\n",
    "    \n",
    "    ep_loss_values = []\n",
    "\n",
    "    for c in range(num_users):\n",
    "        local_model = LocalUpdate(train_dataset=train_dataset, val_dataset=val_dataset,\n",
    "                                    train_idxs=user_groups_train[c],val_idxs=user_groups_val[c], logger=logger, lr=lr, local_ep=local_ep, local_bs=local_bs,total_batches=total_batches)\n",
    "        metric, metric_tc, metric_wt, metric_et,val_loss=local_model.inference(model=global_model)\n",
    "        \n",
    "        ep_metric_values.append(metric)\n",
    "        ep_metric_values_tc.append(metric_tc)\n",
    "        ep_metric_values_wt.append(metric_wt) \n",
    "        ep_metric_values_et.append(metric_et) \n",
    "        ep_loss_values.append(val_loss)\n",
    "        \n",
    "    metric = sum(ep_metric_values)/len(ep_metric_values)\n",
    "    metric_tc = sum(ep_metric_values_tc)/len(ep_metric_values_tc)\n",
    "    metric_wt = sum(ep_metric_values_wt)/len(ep_metric_values_wt)\n",
    "    metric_et = sum(ep_metric_values_et)/len(ep_metric_values_et)\n",
    "    val_loss = sum(ep_loss_values)/len(ep_loss_values)\n",
    "    \n",
    "    metric_values.append(metric)\n",
    "    metric_values_tc.append(metric_tc)\n",
    "    metric_values_wt.append(metric_wt)\n",
    "    metric_values_et.append(metric_et)\n",
    "    val_loss_list.append(val_loss)\n",
    "    global_model.eval()\n",
    "  ###  for c in range(num_users):\n",
    "  ###      local_model = LocalUpdate(train_dataset=train_dataset, val_dataset=val_dataset,\n",
    "  ###                                    train_idxs=user_groups_train[c],val_idxs=user_groups_val[c], logger=logger, lr=lr, local_ep=local_ep, local_bs=local_bs)\n",
    "  ###      metric, metric_tc, metric_wt, metric_et = local_model.inference(model=global_model)\n",
    "         \n",
    "   ##    print(metric)\n",
    "   ##    ep_metric_values.append(metric)\n",
    "   ##     ep_metric_values_tc.append(metric_tc)\n",
    "   ##     ep_metric_values_wt.append(metric_wt) \n",
    "   ##     ep_metric_values_et.append(metric_et) \n",
    "\n",
    "        \n",
    "   # train_accuracy.append(sum(list_acc)/len(list_acc))\n",
    "##    metric = sum(ep_metric_values)/len(ep_metric_values)\n",
    "    print(metric)\n",
    "##    metric_tc = sum(ep_metric_values_tc)/len(ep_metric_values_tc)\n",
    "##    metric_wt = sum(ep_metric_values_wt)/len(ep_metric_values_wt)\n",
    "##    metric_et = sum(ep_metric_values_et)/len(ep_metric_values_et)\n",
    "##    metric_values.append(metric)\n",
    "##    metric_values_tc.append(metric_tc)\n",
    "##    metric_values_wt.append(metric_wt)\n",
    "##    metric_values_et.append(metric_et)\n",
    "    \n",
    "    if metric > best_metric:\n",
    "         \n",
    "        best_metric = metric\n",
    "        best_metric_epoch = epoch + 1\n",
    "        torch.save(\n",
    "                global_model.state_dict(),\n",
    "                os.path.join(root_dir, \"best_metric_model.pth\"),\n",
    "        )\n",
    "        \n",
    "     #   torch.save({\n",
    "      #      'epoch': epoch + 1,\n",
    "       #     'model_state_dict': model.state_dict(),\n",
    "        #    'optimizer_state_dict':  optimizer = torch.optim.Adam(model.parameters(), lr=self.lr,\n",
    "         #                               weight_decay=1e-5, amsgrad=True),\n",
    "          #  'loss': loss,\n",
    "          #  ...\n",
    "           # }, root_dir)\n",
    "        \n",
    "        print(\"saved new best metric model\")\n",
    "\n",
    "\n",
    "    # print global training loss after every 'i' rounds\n",
    "    if (epoch+1) % print_every == 0:\n",
    "      #  print(f' \\nAvg Training Stats after {epoch+1} global rounds:')\n",
    "      #  print(f'Training Loss : {np.mean(np.array(train_loss))}')\n",
    "      #  print('Train Accuracy: {:.2f}% \\n'.format(100*train_accuracy[-1]))\n",
    "         print(\n",
    "            f\"current epoch: {epoch + 1} current mean dice: {metric:.4f}\"\n",
    "            f\" tc: {metric_tc:.4f} wt: {metric_wt:.4f} et: {metric_et:.4f}\"\n",
    "            f\"\\nbest mean dice: {best_metric:.4f}\"\n",
    "            f\" at epoch: {best_metric_epoch}\"\n",
    "         )\n",
    "\n"
   ]
  },
  {
   "cell_type": "code",
   "execution_count": null,
   "id": "equipped-appreciation",
   "metadata": {},
   "outputs": [],
   "source": []
  },
  {
   "cell_type": "code",
   "execution_count": 14,
   "id": "bronze-underground",
   "metadata": {},
   "outputs": [
    {
     "name": "stdout",
     "output_type": "stream",
     "text": [
      "3906.5410788059235\n"
     ]
    }
   ],
   "source": [
    "end = time.time() \n",
    "print(end - start)"
   ]
  },
  {
   "cell_type": "code",
   "execution_count": 31,
   "id": "electric-retailer",
   "metadata": {},
   "outputs": [
    {
     "ename": "TypeError",
     "evalue": "'tuple' object is not callable",
     "output_type": "error",
     "traceback": [
      "\u001b[0;31m---------------------------------------------------------------------------\u001b[0m",
      "\u001b[0;31mTypeError\u001b[0m                                 Traceback (most recent call last)",
      "\u001b[0;32m<ipython-input-31-d0780d3322a6>\u001b[0m in \u001b[0;36m<module>\u001b[0;34m\u001b[0m\n\u001b[0;32m----> 1\u001b[0;31m \u001b[0mi\u001b[0m\u001b[0;34m(\u001b[0m\u001b[0mglobal_weights\u001b[0m\u001b[0;34m[\u001b[0m\u001b[0;34m'model.0.conv.unit0.conv.weight'\u001b[0m\u001b[0;34m]\u001b[0m\u001b[0;34m==\u001b[0m \u001b[0mlocal_weights\u001b[0m\u001b[0;34m[\u001b[0m\u001b[0;36m0\u001b[0m\u001b[0;34m]\u001b[0m\u001b[0;34m[\u001b[0m\u001b[0;34m'model.0.conv.unit0.conv.weight'\u001b[0m\u001b[0;34m]\u001b[0m\u001b[0;34m)\u001b[0m\u001b[0;34m\u001b[0m\u001b[0;34m\u001b[0m\u001b[0m\n\u001b[0m",
      "\u001b[0;31mTypeError\u001b[0m: 'tuple' object is not callable"
     ]
    }
   ],
   "source": [
    "######i(global_weights['model.0.conv.unit0.conv.weight']== local_weights[0]['model.0.conv.unit0.conv.weight'])"
   ]
  },
  {
   "cell_type": "code",
   "execution_count": 27,
   "id": "searching-average",
   "metadata": {},
   "outputs": [
    {
     "ename": "AttributeError",
     "evalue": "'tuple' object has no attribute 'eq'",
     "output_type": "error",
     "traceback": [
      "\u001b[0;31m---------------------------------------------------------------------------\u001b[0m",
      "\u001b[0;31mAttributeError\u001b[0m                            Traceback (most recent call last)",
      "\u001b[0;32m<ipython-input-27-c62c63434f62>\u001b[0m in \u001b[0;36m<module>\u001b[0;34m\u001b[0m\n\u001b[1;32m      2\u001b[0m \u001b[0;31m#print(local_weights[0])\u001b[0m\u001b[0;34m\u001b[0m\u001b[0;34m\u001b[0m\u001b[0;34m\u001b[0m\u001b[0m\n\u001b[1;32m      3\u001b[0m \u001b[0;32mfor\u001b[0m \u001b[0mi\u001b[0m\u001b[0;34m,\u001b[0m\u001b[0mj\u001b[0m \u001b[0;32min\u001b[0m \u001b[0mzip\u001b[0m\u001b[0;34m(\u001b[0m\u001b[0mlocal_weights\u001b[0m\u001b[0;34m[\u001b[0m\u001b[0;36m0\u001b[0m\u001b[0;34m]\u001b[0m\u001b[0;34m.\u001b[0m\u001b[0mitems\u001b[0m\u001b[0;34m(\u001b[0m\u001b[0;34m)\u001b[0m\u001b[0;34m,\u001b[0m \u001b[0mglobal_weights\u001b[0m\u001b[0;34m.\u001b[0m\u001b[0mitems\u001b[0m\u001b[0;34m(\u001b[0m\u001b[0;34m)\u001b[0m\u001b[0;34m)\u001b[0m\u001b[0;34m:\u001b[0m\u001b[0;34m\u001b[0m\u001b[0;34m\u001b[0m\u001b[0m\n\u001b[0;32m----> 4\u001b[0;31m     \u001b[0;32mif\u001b[0m\u001b[0;34m(\u001b[0m\u001b[0;32mnot\u001b[0m \u001b[0mtorch\u001b[0m\u001b[0;34m.\u001b[0m\u001b[0mall\u001b[0m\u001b[0;34m(\u001b[0m\u001b[0mi\u001b[0m\u001b[0;34m.\u001b[0m\u001b[0meq\u001b[0m\u001b[0;34m(\u001b[0m\u001b[0mj\u001b[0m\u001b[0;34m)\u001b[0m\u001b[0;34m)\u001b[0m\u001b[0;34m)\u001b[0m\u001b[0;34m:\u001b[0m\u001b[0;34m\u001b[0m\u001b[0;34m\u001b[0m\u001b[0m\n\u001b[0m\u001b[1;32m      5\u001b[0m         \u001b[0mprint\u001b[0m\u001b[0;34m(\u001b[0m\u001b[0;34m\"err\"\u001b[0m\u001b[0;34m)\u001b[0m\u001b[0;34m\u001b[0m\u001b[0;34m\u001b[0m\u001b[0m\n\u001b[1;32m      6\u001b[0m         \u001b[0;32mbreak\u001b[0m\u001b[0;34m\u001b[0m\u001b[0;34m\u001b[0m\u001b[0m\n",
      "\u001b[0;31mAttributeError\u001b[0m: 'tuple' object has no attribute 'eq'"
     ]
    }
   ],
   "source": [
    "#if(global_weights['model.0.conv.unit0.conv.weight']== local_weights[0]['model.0.conv.unit0.conv.weight']):\n",
    "#print(local_weights[0])\n",
    "for i,j in zip(local_weights[0].items(), global_weights.items()):\n",
    "    if(not torch.all(i.eq(j))):\n",
    "        print(\"err\")\n",
    "        break"
   ]
  },
  {
   "cell_type": "code",
   "execution_count": 15,
   "id": "sexual-horror",
   "metadata": {},
   "outputs": [
    {
     "name": "stdout",
     "output_type": "stream",
     "text": [
      "[0.9512635961021345, 0.9442667558635633]\n"
     ]
    }
   ],
   "source": [
    "print(train_loss)"
   ]
  },
  {
   "cell_type": "code",
   "execution_count": 20,
   "id": "micro-water",
   "metadata": {},
   "outputs": [],
   "source": [
    "import pickle \n",
    "with open(\"train_loss.pkl\", 'wb') as f:\n",
    "      pickle.dump(train_loss,f)\n",
    "with open(\"metric_values.pkl\", 'wb') as f:\n",
    "      pickle.dump(metric_values,f)\n",
    "with open(\"metric_values_tc.pkl\", 'wb') as f:\n",
    "      pickle.dump(metric_values_tc,f)\n",
    "with open(\"metric_values_wt.pkl\", 'wb') as f:\n",
    "      pickle.dump(metric_values_wt,f)\n",
    "with open(\"metric_values_et.pkl\", 'wb') as f:\n",
    "      pickle.dump(metric_values_et,f)\n",
    "with open(\"val_loss.pkl\",'wb') as f:\n",
    "      pickle.dump(metric_values_et,f)\n",
    "    \n"
   ]
  },
  {
   "cell_type": "code",
   "execution_count": 23,
   "id": "analyzed-garden",
   "metadata": {},
   "outputs": [
    {
     "name": "stdout",
     "output_type": "stream",
     "text": [
      "[0.04662209577509202]\n"
     ]
    }
   ],
   "source": []
  },
  {
   "cell_type": "code",
   "execution_count": 40,
   "id": "varied-grill",
   "metadata": {},
   "outputs": [
    {
     "data": {
      "image/png": "[encoded data removed]",
      "text/plain": [
       "<Figure size 864x432 with 2 Axes>"
      ]
     },
     "metadata": {
      "needs_background": "light"
     },
     "output_type": "display_data"
    },
    {
     "data": {
      "image/png": "[encoded data removed]",
      "text/plain": [
       "<Figure size 1296x432 with 3 Axes>"
      ]
     },
     "metadata": {
      "needs_background": "light"
     },
     "output_type": "display_data"
    }
   ],
   "source": [
    "%matplotlib inline \n",
    "val_interval=1\n",
    "plt.figure(\"train\", (12, 6))\n",
    "plt.subplot(1, 2, 1)\n",
    "plt.title(\"Epoch Average Loss\")\n",
    "x = [i + 1 for i in range(len(train_loss))]\n",
    "y = train_loss\n",
    "plt.xlabel(\"epoch\")\n",
    "plt.plot(x, y, color=\"red\")\n",
    "plt.subplot(1, 2, 2)\n",
    "plt.title(\"Val Mean Dice\")\n",
    "x = [val_interval * (i + 1) for i in range(len(metric_values))]\n",
    "y = metric_values\n",
    "plt.xlabel(\"epoch\")\n",
    "plt.plot(x, y, color=\"green\")\n",
    "plt.show()\n",
    "\n",
    "plt.figure(\"train\", (18, 6))\n",
    "plt.subplot(1, 3, 1)\n",
    "plt.title(\"Val Mean Dice TC\")\n",
    "x = [val_interval * (i + 1) for i in range(len(metric_values_tc))]\n",
    "y = metric_values_tc\n",
    "plt.xlabel(\"epoch\")\n",
    "plt.plot(x, y, color=\"blue\")\n",
    "plt.subplot(1, 3, 2)\n",
    "plt.title(\"Val Mean Dice WT\")\n",
    "x = [val_interval * (i + 1) for i in range(len(metric_values_wt))]\n",
    "y = metric_values_wt\n",
    "plt.xlabel(\"epoch\")\n",
    "plt.plot(x, y, color=\"brown\")\n",
    "plt.subplot(1, 3, 3)\n",
    "plt.title(\"Val Mean Dice ET\")\n",
    "x = [val_interval * (i + 1) for i in range(len(metric_values_et))]\n",
    "y = metric_values_et\n",
    "plt.xlabel(\"epoch\")\n",
    "plt.plot(x, y, color=\"purple\")\n",
    "plt.show()"
   ]
  },
  {
   "cell_type": "code",
   "execution_count": 25,
   "id": "facial-cannon",
   "metadata": {},
   "outputs": [
    {
     "ename": "NameError",
     "evalue": "name 'args' is not defined",
     "output_type": "error",
     "traceback": [
      "\u001b[0;31m---------------------------------------------------------------------------\u001b[0m",
      "\u001b[0;31mNameError\u001b[0m                                 Traceback (most recent call last)",
      "\u001b[0;32m<ipython-input-25-f5fcba9961a7>\u001b[0m in \u001b[0;36m<module>\u001b[0;34m\u001b[0m\n\u001b[1;32m      1\u001b[0m \u001b[0;32mfrom\u001b[0m \u001b[0msrc\u001b[0m\u001b[0;34m.\u001b[0m\u001b[0mupdate\u001b[0m \u001b[0;32mimport\u001b[0m \u001b[0mtest_inference\u001b[0m\u001b[0;34m\u001b[0m\u001b[0;34m\u001b[0m\u001b[0m\n\u001b[0;32m----> 2\u001b[0;31m \u001b[0mtest_metric\u001b[0m\u001b[0;34m,\u001b[0m \u001b[0mtest_metric_tc\u001b[0m\u001b[0;34m,\u001b[0m \u001b[0mtest_metric_wt\u001b[0m\u001b[0;34m,\u001b[0m \u001b[0mtest_metric_et\u001b[0m\u001b[0;34m=\u001b[0m \u001b[0mtest_inference\u001b[0m\u001b[0;34m(\u001b[0m\u001b[0margs\u001b[0m\u001b[0;34m,\u001b[0m \u001b[0mglobal_model\u001b[0m\u001b[0;34m,\u001b[0m \u001b[0mtest_dataset\u001b[0m\u001b[0;34m)\u001b[0m\u001b[0;34m\u001b[0m\u001b[0;34m\u001b[0m\u001b[0m\n\u001b[0m\u001b[1;32m      3\u001b[0m \u001b[0;34m\u001b[0m\u001b[0m\n\u001b[1;32m      4\u001b[0m \u001b[0;31m#print(f' \\n Results after {epochs} global rounds of training:')\u001b[0m\u001b[0;34m\u001b[0m\u001b[0;34m\u001b[0m\u001b[0;34m\u001b[0m\u001b[0m\n\u001b[1;32m      5\u001b[0m \u001b[0;34m\u001b[0m\u001b[0m\n",
      "\u001b[0;31mNameError\u001b[0m: name 'args' is not defined"
     ]
    }
   ],
   "source": [
    "from src.update import test_inference\n",
    "test_metric, test_metric_tc, test_metric_wt, test_metric_et= test_inference(global_model, test_dataset)\n",
    "    \n",
    "#print(f' \\n Results after {epochs} global rounds of training:')\n",
    "\n",
    "# no train accuracy as we measure dice metrics\n",
    "#print(\"|---- Avg Train Accuracy: {:.2f}%\".format(100*train_accuracy[-1]))\n",
    "print(\"|---- Test Accuracy: {:.2f}%\".format(100*test_acc))\n",
    "\n",
    "    # Saving the objects train_loss and train_accuracy:\n",
    "file_name = '../save/objects/{}_{}_{}_C[{}]_iid[{}]_E[{}]_B[{}].pkl'.\\\n",
    "    format(dataset, model, epochs, frac, iid,\n",
    "            local_ep, local_bs)\n",
    "\n",
    "with open(file_name, 'wb') as f:\n",
    "    pickle.dump([train_loss, train_accuracy], f)\n",
    "\n",
    "print('\\n Total Run Time: {0:0.4f}'.format(time.time()-start_time))\n",
    "\n",
    "\n"
   ]
  },
  {
   "cell_type": "code",
   "execution_count": 163,
   "id": "oriented-service",
   "metadata": {},
   "outputs": [
    {
     "ename": "FileNotFoundError",
     "evalue": "[Errno 2] No such file or directory: '../save/fed_brats_UNET_1_C[0.1]_iid[1]_E[1]_B[2]_loss.png'",
     "output_type": "error",
     "traceback": [
      "\u001b[0;31m---------------------------------------------------------------------------\u001b[0m",
      "\u001b[0;31mFileNotFoundError\u001b[0m                         Traceback (most recent call last)",
      "\u001b[0;32m<ipython-input-163-a02ee033f330>\u001b[0m in \u001b[0;36m<module>\u001b[0;34m\u001b[0m\n\u001b[1;32m     11\u001b[0m \u001b[0mplt\u001b[0m\u001b[0;34m.\u001b[0m\u001b[0mylabel\u001b[0m\u001b[0;34m(\u001b[0m\u001b[0;34m'Training loss'\u001b[0m\u001b[0;34m)\u001b[0m\u001b[0;34m\u001b[0m\u001b[0;34m\u001b[0m\u001b[0m\n\u001b[1;32m     12\u001b[0m \u001b[0mplt\u001b[0m\u001b[0;34m.\u001b[0m\u001b[0mxlabel\u001b[0m\u001b[0;34m(\u001b[0m\u001b[0;34m'Communication Rounds'\u001b[0m\u001b[0;34m)\u001b[0m\u001b[0;34m\u001b[0m\u001b[0;34m\u001b[0m\u001b[0m\n\u001b[0;32m---> 13\u001b[0;31m plt.savefig('../save/fed_{}_{}_{}_C[{}]_iid[{}]_E[{}]_B[{}]_loss.png'.\n\u001b[0m\u001b[1;32m     14\u001b[0m              format(dataset, model, epochs, frac,\n\u001b[1;32m     15\u001b[0m                         iid, local_ep, local_bs))\n",
      "\u001b[0;32m/opt/conda/lib/python3.8/site-packages/matplotlib/pyplot.py\u001b[0m in \u001b[0;36msavefig\u001b[0;34m(*args, **kwargs)\u001b[0m\n\u001b[1;32m    857\u001b[0m \u001b[0;32mdef\u001b[0m \u001b[0msavefig\u001b[0m\u001b[0;34m(\u001b[0m\u001b[0;34m*\u001b[0m\u001b[0margs\u001b[0m\u001b[0;34m,\u001b[0m \u001b[0;34m**\u001b[0m\u001b[0mkwargs\u001b[0m\u001b[0;34m)\u001b[0m\u001b[0;34m:\u001b[0m\u001b[0;34m\u001b[0m\u001b[0;34m\u001b[0m\u001b[0m\n\u001b[1;32m    858\u001b[0m     \u001b[0mfig\u001b[0m \u001b[0;34m=\u001b[0m \u001b[0mgcf\u001b[0m\u001b[0;34m(\u001b[0m\u001b[0;34m)\u001b[0m\u001b[0;34m\u001b[0m\u001b[0;34m\u001b[0m\u001b[0m\n\u001b[0;32m--> 859\u001b[0;31m     \u001b[0mres\u001b[0m \u001b[0;34m=\u001b[0m \u001b[0mfig\u001b[0m\u001b[0;34m.\u001b[0m\u001b[0msavefig\u001b[0m\u001b[0;34m(\u001b[0m\u001b[0;34m*\u001b[0m\u001b[0margs\u001b[0m\u001b[0;34m,\u001b[0m \u001b[0;34m**\u001b[0m\u001b[0mkwargs\u001b[0m\u001b[0;34m)\u001b[0m\u001b[0;34m\u001b[0m\u001b[0;34m\u001b[0m\u001b[0m\n\u001b[0m\u001b[1;32m    860\u001b[0m     \u001b[0mfig\u001b[0m\u001b[0;34m.\u001b[0m\u001b[0mcanvas\u001b[0m\u001b[0;34m.\u001b[0m\u001b[0mdraw_idle\u001b[0m\u001b[0;34m(\u001b[0m\u001b[0;34m)\u001b[0m   \u001b[0;31m# need this if 'transparent=True' to reset colors\u001b[0m\u001b[0;34m\u001b[0m\u001b[0;34m\u001b[0m\u001b[0m\n\u001b[1;32m    861\u001b[0m     \u001b[0;32mreturn\u001b[0m \u001b[0mres\u001b[0m\u001b[0;34m\u001b[0m\u001b[0;34m\u001b[0m\u001b[0m\n",
      "\u001b[0;32m/opt/conda/lib/python3.8/site-packages/matplotlib/figure.py\u001b[0m in \u001b[0;36msavefig\u001b[0;34m(self, fname, transparent, **kwargs)\u001b[0m\n\u001b[1;32m   2309\u001b[0m                 \u001b[0mpatch\u001b[0m\u001b[0;34m.\u001b[0m\u001b[0mset_edgecolor\u001b[0m\u001b[0;34m(\u001b[0m\u001b[0;34m'none'\u001b[0m\u001b[0;34m)\u001b[0m\u001b[0;34m\u001b[0m\u001b[0;34m\u001b[0m\u001b[0m\n\u001b[1;32m   2310\u001b[0m \u001b[0;34m\u001b[0m\u001b[0m\n\u001b[0;32m-> 2311\u001b[0;31m         \u001b[0mself\u001b[0m\u001b[0;34m.\u001b[0m\u001b[0mcanvas\u001b[0m\u001b[0;34m.\u001b[0m\u001b[0mprint_figure\u001b[0m\u001b[0;34m(\u001b[0m\u001b[0mfname\u001b[0m\u001b[0;34m,\u001b[0m \u001b[0;34m**\u001b[0m\u001b[0mkwargs\u001b[0m\u001b[0;34m)\u001b[0m\u001b[0;34m\u001b[0m\u001b[0;34m\u001b[0m\u001b[0m\n\u001b[0m\u001b[1;32m   2312\u001b[0m \u001b[0;34m\u001b[0m\u001b[0m\n\u001b[1;32m   2313\u001b[0m         \u001b[0;32mif\u001b[0m \u001b[0mtransparent\u001b[0m\u001b[0;34m:\u001b[0m\u001b[0;34m\u001b[0m\u001b[0;34m\u001b[0m\u001b[0m\n",
      "\u001b[0;32m/opt/conda/lib/python3.8/site-packages/matplotlib/backend_bases.py\u001b[0m in \u001b[0;36mprint_figure\u001b[0;34m(self, filename, dpi, facecolor, edgecolor, orientation, format, bbox_inches, pad_inches, bbox_extra_artists, backend, **kwargs)\u001b[0m\n\u001b[1;32m   2208\u001b[0m \u001b[0;34m\u001b[0m\u001b[0m\n\u001b[1;32m   2209\u001b[0m             \u001b[0;32mtry\u001b[0m\u001b[0;34m:\u001b[0m\u001b[0;34m\u001b[0m\u001b[0;34m\u001b[0m\u001b[0m\n\u001b[0;32m-> 2210\u001b[0;31m                 result = print_method(\n\u001b[0m\u001b[1;32m   2211\u001b[0m                     \u001b[0mfilename\u001b[0m\u001b[0;34m,\u001b[0m\u001b[0;34m\u001b[0m\u001b[0;34m\u001b[0m\u001b[0m\n\u001b[1;32m   2212\u001b[0m                     \u001b[0mdpi\u001b[0m\u001b[0;34m=\u001b[0m\u001b[0mdpi\u001b[0m\u001b[0;34m,\u001b[0m\u001b[0;34m\u001b[0m\u001b[0;34m\u001b[0m\u001b[0m\n",
      "\u001b[0;32m/opt/conda/lib/python3.8/site-packages/matplotlib/backend_bases.py\u001b[0m in \u001b[0;36mwrapper\u001b[0;34m(*args, **kwargs)\u001b[0m\n\u001b[1;32m   1637\u001b[0m             \u001b[0mkwargs\u001b[0m\u001b[0;34m.\u001b[0m\u001b[0mpop\u001b[0m\u001b[0;34m(\u001b[0m\u001b[0marg\u001b[0m\u001b[0;34m)\u001b[0m\u001b[0;34m\u001b[0m\u001b[0;34m\u001b[0m\u001b[0m\n\u001b[1;32m   1638\u001b[0m \u001b[0;34m\u001b[0m\u001b[0m\n\u001b[0;32m-> 1639\u001b[0;31m         \u001b[0;32mreturn\u001b[0m \u001b[0mfunc\u001b[0m\u001b[0;34m(\u001b[0m\u001b[0;34m*\u001b[0m\u001b[0margs\u001b[0m\u001b[0;34m,\u001b[0m \u001b[0;34m**\u001b[0m\u001b[0mkwargs\u001b[0m\u001b[0;34m)\u001b[0m\u001b[0;34m\u001b[0m\u001b[0;34m\u001b[0m\u001b[0m\n\u001b[0m\u001b[1;32m   1640\u001b[0m \u001b[0;34m\u001b[0m\u001b[0m\n\u001b[1;32m   1641\u001b[0m     \u001b[0;32mreturn\u001b[0m \u001b[0mwrapper\u001b[0m\u001b[0;34m\u001b[0m\u001b[0;34m\u001b[0m\u001b[0m\n",
      "\u001b[0;32m/opt/conda/lib/python3.8/site-packages/matplotlib/backends/backend_agg.py\u001b[0m in \u001b[0;36mprint_png\u001b[0;34m(self, filename_or_obj, metadata, pil_kwargs, *args)\u001b[0m\n\u001b[1;32m    508\u001b[0m         \"\"\"\n\u001b[1;32m    509\u001b[0m         \u001b[0mFigureCanvasAgg\u001b[0m\u001b[0;34m.\u001b[0m\u001b[0mdraw\u001b[0m\u001b[0;34m(\u001b[0m\u001b[0mself\u001b[0m\u001b[0;34m)\u001b[0m\u001b[0;34m\u001b[0m\u001b[0;34m\u001b[0m\u001b[0m\n\u001b[0;32m--> 510\u001b[0;31m         mpl.image.imsave(\n\u001b[0m\u001b[1;32m    511\u001b[0m             \u001b[0mfilename_or_obj\u001b[0m\u001b[0;34m,\u001b[0m \u001b[0mself\u001b[0m\u001b[0;34m.\u001b[0m\u001b[0mbuffer_rgba\u001b[0m\u001b[0;34m(\u001b[0m\u001b[0;34m)\u001b[0m\u001b[0;34m,\u001b[0m \u001b[0mformat\u001b[0m\u001b[0;34m=\u001b[0m\u001b[0;34m\"png\"\u001b[0m\u001b[0;34m,\u001b[0m \u001b[0morigin\u001b[0m\u001b[0;34m=\u001b[0m\u001b[0;34m\"upper\"\u001b[0m\u001b[0;34m,\u001b[0m\u001b[0;34m\u001b[0m\u001b[0;34m\u001b[0m\u001b[0m\n\u001b[1;32m    512\u001b[0m             dpi=self.figure.dpi, metadata=metadata, pil_kwargs=pil_kwargs)\n",
      "\u001b[0;32m/opt/conda/lib/python3.8/site-packages/matplotlib/image.py\u001b[0m in \u001b[0;36mimsave\u001b[0;34m(fname, arr, vmin, vmax, cmap, format, origin, dpi, metadata, pil_kwargs)\u001b[0m\n\u001b[1;32m   1609\u001b[0m         \u001b[0mpil_kwargs\u001b[0m\u001b[0;34m.\u001b[0m\u001b[0msetdefault\u001b[0m\u001b[0;34m(\u001b[0m\u001b[0;34m\"format\"\u001b[0m\u001b[0;34m,\u001b[0m \u001b[0mformat\u001b[0m\u001b[0;34m)\u001b[0m\u001b[0;34m\u001b[0m\u001b[0;34m\u001b[0m\u001b[0m\n\u001b[1;32m   1610\u001b[0m         \u001b[0mpil_kwargs\u001b[0m\u001b[0;34m.\u001b[0m\u001b[0msetdefault\u001b[0m\u001b[0;34m(\u001b[0m\u001b[0;34m\"dpi\"\u001b[0m\u001b[0;34m,\u001b[0m \u001b[0;34m(\u001b[0m\u001b[0mdpi\u001b[0m\u001b[0;34m,\u001b[0m \u001b[0mdpi\u001b[0m\u001b[0;34m)\u001b[0m\u001b[0;34m)\u001b[0m\u001b[0;34m\u001b[0m\u001b[0;34m\u001b[0m\u001b[0m\n\u001b[0;32m-> 1611\u001b[0;31m         \u001b[0mimage\u001b[0m\u001b[0;34m.\u001b[0m\u001b[0msave\u001b[0m\u001b[0;34m(\u001b[0m\u001b[0mfname\u001b[0m\u001b[0;34m,\u001b[0m \u001b[0;34m**\u001b[0m\u001b[0mpil_kwargs\u001b[0m\u001b[0;34m)\u001b[0m\u001b[0;34m\u001b[0m\u001b[0;34m\u001b[0m\u001b[0m\n\u001b[0m\u001b[1;32m   1612\u001b[0m \u001b[0;34m\u001b[0m\u001b[0m\n\u001b[1;32m   1613\u001b[0m \u001b[0;34m\u001b[0m\u001b[0m\n",
      "\u001b[0;32m/opt/conda/lib/python3.8/site-packages/PIL/Image.py\u001b[0m in \u001b[0;36msave\u001b[0;34m(self, fp, format, **params)\u001b[0m\n\u001b[1;32m   2167\u001b[0m                 \u001b[0mfp\u001b[0m \u001b[0;34m=\u001b[0m \u001b[0mbuiltins\u001b[0m\u001b[0;34m.\u001b[0m\u001b[0mopen\u001b[0m\u001b[0;34m(\u001b[0m\u001b[0mfilename\u001b[0m\u001b[0;34m,\u001b[0m \u001b[0;34m\"r+b\"\u001b[0m\u001b[0;34m)\u001b[0m\u001b[0;34m\u001b[0m\u001b[0;34m\u001b[0m\u001b[0m\n\u001b[1;32m   2168\u001b[0m             \u001b[0;32melse\u001b[0m\u001b[0;34m:\u001b[0m\u001b[0;34m\u001b[0m\u001b[0;34m\u001b[0m\u001b[0m\n\u001b[0;32m-> 2169\u001b[0;31m                 \u001b[0mfp\u001b[0m \u001b[0;34m=\u001b[0m \u001b[0mbuiltins\u001b[0m\u001b[0;34m.\u001b[0m\u001b[0mopen\u001b[0m\u001b[0;34m(\u001b[0m\u001b[0mfilename\u001b[0m\u001b[0;34m,\u001b[0m \u001b[0;34m\"w+b\"\u001b[0m\u001b[0;34m)\u001b[0m\u001b[0;34m\u001b[0m\u001b[0;34m\u001b[0m\u001b[0m\n\u001b[0m\u001b[1;32m   2170\u001b[0m \u001b[0;34m\u001b[0m\u001b[0m\n\u001b[1;32m   2171\u001b[0m         \u001b[0;32mtry\u001b[0m\u001b[0;34m:\u001b[0m\u001b[0;34m\u001b[0m\u001b[0;34m\u001b[0m\u001b[0m\n",
      "\u001b[0;31mFileNotFoundError\u001b[0m: [Errno 2] No such file or directory: '../save/fed_brats_UNET_1_C[0.1]_iid[1]_E[1]_B[2]_loss.png'"
     ]
    }
   ],
   "source": [
    "#PLOTTING (optional)\n",
    "import matplotlib\n",
    "import matplotlib.pyplot as plt\n",
    "matplotlib.use('Agg')\n",
    "\n",
    "# Plot Loss curve\n",
    "plt.figure()\n",
    "model = \"UNET\"\n",
    "plt.title('Training Loss vs Communication rounds')\n",
    "plt.plot(range(len(train_loss)), train_loss, color='r')\n",
    "plt.ylabel('Training loss')\n",
    "plt.xlabel('Communication Rounds')\n",
    "plt.savefig('../save/fed_{}_{}_{}_C[{}]_iid[{}]_E[{}]_B[{}]_loss.png'.\n",
    "             format(dataset, model, epochs, frac,\n",
    "                        iid, local_ep, local_bs))\n",
    "    \n",
    "# # Plot Average Accuracy vs Communication rounds\n",
    "plt.figure()\n",
    "plt.title('Average Accuracy vs Communication rounds')\n",
    "plt.plot(range(len(train_accuracy)), train_accuracy, color='k')\n",
    "plt.ylabel('Average Accuracy')\n",
    "plt.xlabel('Communication Rounds')\n",
    "plt.savefig('../save/fed_{}_{}_{}_C[{}]_iid[{}]_E[{}]_B[{}]_acc.png'.\n",
    "             format(dataset, model, epochs, frac,\n",
    "                    iid, local_ep, local_bs))"
   ]
  },
  {
   "cell_type": "code",
   "execution_count": null,
   "id": "fundamental-harrison",
   "metadata": {},
   "outputs": [],
   "source": []
  }
 ],
 "metadata": {
  "kernelspec": {
   "display_name": "Python 3",
   "language": "python",
   "name": "python3"
  },
  "language_info": {
   "codemirror_mode": {
    "name": "ipython",
    "version": 3
   },
   "file_extension": ".py",
   "mimetype": "text/x-python",
   "name": "python",
   "nbconvert_exporter": "python",
   "pygments_lexer": "ipython3",
   "version": "3.8.5"
  }
 },
 "nbformat": 4,
 "nbformat_minor": 5
}
